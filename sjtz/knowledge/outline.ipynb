{
 "cells": [
  {
   "cell_type": "markdown",
   "metadata": {},
   "source": [
    "# 知识星球"
   ]
  },
  {
   "cell_type": "code",
   "execution_count": null,
   "metadata": {},
   "outputs": [
    {
     "name": "stdout",
     "output_type": "stream",
     "text": [
      "Welcome to use Wind Quant API for Python (WindPy)!\n",
      "\n",
      "COPYRIGHT (C) 2024 WIND INFORMATION CO., LTD. ALL RIGHTS RESERVED.\n",
      "IN NO CIRCUMSTANCE SHALL WIND BE RESPONSIBLE FOR ANY DAMAGES OR LOSSES CAUSED BY USING WIND QUANT API FOR Python.\n"
     ]
    },
    {
     "data": {
      "text/plain": [
       "True"
      ]
     },
     "execution_count": 7,
     "metadata": {},
     "output_type": "execute_result"
    }
   ],
   "source": [
    "from WindPy import w\n",
    "import sys\n",
    "sys.path.append(\"..\")\n",
    "from call_model import call_model\n",
    "import datetime\n",
    "import os\n",
    "import matplotlib.pyplot as plt\n",
    "import pandas as pd\n",
    "import numpy as np\n",
    "today = datetime.date.today()\n",
    "#print(today)\n",
    "w.start() # 默认命令超时时间为120秒，如需设置超时时间可以加入waitTime参数，例如waitTime=60,即设置命令超时时间为60秒 \n",
    "\n",
    "w.isconnected() # 判断WindPy是否已经登录成功"
   ]
  },
  {
   "cell_type": "markdown",
   "metadata": {},
   "source": [
    "### 溴素\n",
    "进口扰动，国内溴素供需或阶段性失衡。据百川资讯，目前国内溴素进口货源供应吃紧，根据我们与相关企业沟通，反馈主要系海外溴素供应商ICL部分装置出现故障，因而暂时无法向市场继续供货。ICL拥有溴素产能28万吨，占全球产能的30%以上。ICL是国内溴素主要进口货源提供商，2024年国内总共进口溴素7.66万吨，其中从以色列进口溴素4.43万吨，占当年总进口量的49.19%。从国内供需来看，据卓创资讯统计，2024年国内溴素表观消费量在14.02万吨，其中自产仅为6.35万吨，进口依赖度在50%以上。单四月份来看，2019-2024年国内溴素平均表观消费量在1.3万吨，以此测算，若4月份ICL无法向国内供应溴素，则国内单月供应缺口约为3000吨，国内溴素供需将阶段性失衡。\n",
    "溴素价格或进入新一轮上涨周期。截至2025年3月25日，据百川资讯统计，国内溴素报价2.8万元/吨，同比+55.66%，相较于年初上涨30.23%。ICL暂缓对市场供应溴素，或导致国内溴素供需短暂失衡，带动国内溴素价格进入新一轮的上行周期。从历史价格来看，溴素价格历史最高价在近7万/吨，目前国内主要溴素产区山东地区部分供应商惜售，我们预计若供应问题短时间内无法缓解，溴素价格有望快速拉涨，价格上涨空间可观。"
   ]
  },
  {
   "cell_type": "code",
   "execution_count": null,
   "metadata": {},
   "outputs": [],
   "source": [
    "begin = today - datetime.timedelta(days=30)\n",
    "data_xiusu = w.edb([\"S5470449\"],str(begin), end_date=str(today),Fill=\"Previous\",usedf = True)[1] #溴素"
   ]
  },
  {
   "cell_type": "code",
   "execution_count": 17,
   "metadata": {},
   "outputs": [
    {
     "data": {
      "image/png": "[encoded data removed]",
      "text/plain": [
       "<Figure size 640x480 with 1 Axes>"
      ]
     },
     "metadata": {},
     "output_type": "display_data"
    }
   ],
   "source": [
    "plt.plot(data_xiusu.index,data_xiusu.values)\n",
    "plt.rcParams['font.sans-serif'] = ['SimHei']\n",
    "plt.title('中国溴素现货价')\n",
    "plt.xticks(rotation = 30)\n",
    "plt.savefig('plot_xiusu.png')#os.path.join(dir,'plot_xiusu.png')\n",
    "\n",
    "prompt = f\"\"\"这是近一个月中国溴素现货价的数据：{data_xiusu}\n",
    "任务：请根据上述结果分析判断近期所有可能存在的投资或套利机会和策略。\n",
    "请使用Markdown格式回答，但不要用任何代码块（如 ```）包裹内容。\n",
    "\"\"\"\n",
    "data_xiusu.columns = [\"中国溴素现货价\"]\n",
    "new_data = data_xiusu.to_markdown()\n",
    "result = call_model(prompt)\n",
    "result+=\"\\n\\n\"+\"![图](plot_xiusu.png)\"\n",
    "result+=\"\\n\\n\"+new_data\n",
    "with open(\"stragety_xiusu.md\", \"w\", encoding=\"utf-8\") as file:\n",
    "            file.write(result)"
   ]
  },
  {
   "cell_type": "markdown",
   "metadata": {},
   "source": [
    "### 国际磷肥和钾肥价格"
   ]
  },
  {
   "cell_type": "code",
   "execution_count": null,
   "metadata": {},
   "outputs": [],
   "source": [
    "#数据暂时没找到"
   ]
  },
  {
   "cell_type": "markdown",
   "metadata": {},
   "source": [
    "### 光伏\n",
    "光伏级EVA价格，分布式光伏组件价格，光纤出口和光模块出口，硅料，硅片，电池片，光伏玻璃"
   ]
  },
  {
   "cell_type": "code",
   "execution_count": null,
   "metadata": {},
   "outputs": [],
   "source": [
    "#数据暂时没找到"
   ]
  },
  {
   "cell_type": "markdown",
   "metadata": {},
   "source": [
    "### 工业磷酸一铵价格"
   ]
  },
  {
   "cell_type": "markdown",
   "metadata": {},
   "source": [
    "#数据暂时没找到"
   ]
  },
  {
   "cell_type": "markdown",
   "metadata": {},
   "source": [
    "### 海关挖掘机出口数据和CME观测\n",
    "昨晚把海关挖掘机出口数据整理出来了，这个出口数据包含了新机和二手机，协会公布的出口数据是新机的销量，两者相减就是二手机的出口数量。从图中可以看出，二手机从2020年初因为新冠疫情爆发，二手机短暂大量出口，随着国内经济的恢复，随后恢复到正常，但从2021年下半年开始，二手机出口持续高增长，一直持续到现在，并在2024年下半年再次加速，现在的出口同比增速高达50%以上，远远大于新机10%左右的增速。之所以在去年下半年二手机出口再次加速，可能和换机补贴有关。这个数据解释了挖掘机销量的高景气度和实际开工施工等数据的背离。\n",
    "小松机械披露的数据：来自中国的6吨以上液压挖掘机持续增长，这是对中国挖掘机景气度上升的验证。"
   ]
  },
  {
   "cell_type": "code",
   "execution_count": null,
   "metadata": {},
   "outputs": [],
   "source": [
    "data_waji = w.edb([\"S6000153\"],str(begin), end_date=str(today),Fill=\"Previous\",usedf = True)[1] #中国挖掘机出口数量累计值\n",
    "# 数据得自己找"
   ]
  },
  {
   "cell_type": "markdown",
   "metadata": {},
   "source": [
    "### 机器人\n",
    "#### 工业机器人和服务机器人\n",
    "把服务机器人的数据补齐了，大家对照603486和688169的股价K线图，关联度还是非常高的。还是把两个股票的股价数据输进去了，做了一个对比图，发现石头科技和服务机器人的产量数据关联度更高，科沃斯股价明显和产量数据背离了，毕竟这是行业的数据，单个公司的市占率可能会有上升或者下降，也就是说，行业好转了，但是公司的销量不一定会好转多少。\n"
   ]
  },
  {
   "cell_type": "code",
   "execution_count": 18,
   "metadata": {},
   "outputs": [],
   "source": [
    "begin = today - datetime.timedelta(days=365)\n",
    "data_robot = w.edb([\"S0243297\",\"V5638475\"],str(begin), end_date=str(today),Fill=\"Previous\",usedf = True)[1] #溴素"
   ]
  },
  {
   "cell_type": "code",
   "execution_count": 21,
   "metadata": {},
   "outputs": [],
   "source": [
    "\n",
    "prompt = f\"\"\"这是近一年中国工业机器人每月产量的数据：{data_robot[\"S0243297\"]}\n",
    "这是近一年中国服务机器人每月产量的数据：{data_robot[\"V5638475\"]}\n",
    "任务：请根据上述结果分析判断近期所有可能存在的投资或套利机会和策略。\n",
    "请使用Markdown格式回答，但不要用任何代码块（如 ```）包裹内容。\n",
    "\"\"\"\n",
    "data_robot.columns = [\"工业机器人产量\",\"服务机器人产量\"]\n",
    "new_data = data_robot.to_markdown()\n",
    "result = call_model(prompt)\n",
    "result+=\"\\n\\n\"+new_data\n",
    "with open(\"stragety_robot.md\", \"w\", encoding=\"utf-8\") as file:\n",
    "            file.write(result)"
   ]
  },
  {
   "cell_type": "markdown",
   "metadata": {},
   "source": [
    "### 乳清及改性乳清"
   ]
  },
  {
   "cell_type": "markdown",
   "metadata": {},
   "source": [
    "### 贵金属\n",
    "#### 铜金比\n",
    "铜金比从2008年后，每次跌破3.5的比值，都会起来，这次已经跌破了3..5，会再次起来吗？是不是可以赌一下做空黄金做多铜的对冲策略？\n",
    "### 铜\n",
    "#### 基金净多单和商业净多单\n",
    "基金和商业净多单占比之差领先于铜价\n",
    "### 金\n",
    "#### swap_positions（紫） 和M_Money_Positions（蓝）\n",
    "蓝上紫下，黄金价格上涨；紫上蓝下，黄金价格下跌\n",
    "### COMEX黄金白银库存"
   ]
  },
  {
   "cell_type": "markdown",
   "metadata": {},
   "source": [
    "### 内存\n",
    "DRAM颗粒价格，闪存卡价格，颗粒"
   ]
  },
  {
   "cell_type": "markdown",
   "metadata": {},
   "source": [
    "## 宏观\n",
    "韩国出口金额和累计出口金额\n",
    "### 出料贸易\n",
    "所谓出料贸易，来料贸易正好相反，出料贸易就是两头在国内，加工在国外。这种贸易方式增长很快，对提高企业的利润有帮助，但是对国内的就业是不利的，这就是工作岗位正在外流。\n",
    "### 国债\n",
    "短期国债指数，2年期国债期货当月合约\n",
    "中期国债指数，5年期国债期货当月合约\n",
    "长期国债指数，10年期国债期货当月合约\n",
    "\n",
    "### 债券发行金额\n",
    "\n",
    "#### 中长期贷款 非金融性公司及其它部门贷款\n",
    "央行资产负债表，信贷脉冲，mlf余额，本外币存款，人名币存款，本外币贷款，人名币贷款\n",
    "### 低值简易通关商品\n",
    "低值简易通关商品的规模已经达到了千亿美元的规模，今年1-2月的出口金额同比增速25.33%，远远大于整体的出口增速。这个商品可以理解为电商的出口商品，相关的股票仍然可以关注。\n",
    "### 欧元区的制造业PMI\n",
    "这是欧元区的制造业PMI，包括德国和法国这两个主要的欧元区经济体，正在回升。中国的经济周期和欧元区同步得比较好，随着俄乌战争的结束带来的重建和欧洲自建防务体系，都会带动欧元区制造业的回升。中国对欧洲出口的占比和对美国的出口占比差不多的体量，欧洲的复苏，也会带来中国对欧洲出口的增长，可以预计，中国的制造业PMI也会随着欧元区PMI的回升而上升。\n",
    "### 美国房屋空置率数据\n",
    "当出租房屋空置率趋势性上升的时候，美国联邦利率就会趋势性的下降，从1956年有这项数据以来都是如此，现在出租房屋的空置率是6.9%，整体房屋空置率在10.2%左右，金融海啸时期的空置率高达14.6%。"
   ]
  },
  {
   "cell_type": "markdown",
   "metadata": {},
   "source": [
    "### 两融数据\n",
    "总融资额，总融券额，合计当日净融资买入额，当日净融券卖出量，当日净融券余额\n",
    "两市当日融资总买入金额，融资买入占比。\n",
    "### 当月结售汇差额\n",
    "北上净买入金额-南下净买入金额"
   ]
  },
  {
   "cell_type": "markdown",
   "metadata": {},
   "source": [
    "## 工业原料\n",
    "#### 美国 天然气库存\n",
    "### 原油\n",
    "商品原油+成品油库存，战略原油储备"
   ]
  },
  {
   "cell_type": "markdown",
   "metadata": {},
   "source": [
    "### 主要工业产品日均产量\n",
    "十种有色金属，乙烯，汽车，发电量，钢材，水泥，原油加工量，布，硫酸，烧碱"
   ]
  },
  {
   "cell_type": "markdown",
   "metadata": {},
   "source": [
    "### 小金属\n",
    "海绵钛价格,锶价,钴,锡，铟价，锑价，铋"
   ]
  },
  {
   "cell_type": "markdown",
   "metadata": {},
   "source": [
    "### 锂电池和碳酸锂，铁锂电池的电解液价格"
   ]
  }
 ],
 "metadata": {
  "kernelspec": {
   "display_name": "sjtz",
   "language": "python",
   "name": "python3"
  },
  "language_info": {
   "codemirror_mode": {
    "name": "ipython",
    "version": 3
   },
   "file_extension": ".py",
   "mimetype": "text/x-python",
   "name": "python",
   "nbconvert_exporter": "python",
   "pygments_lexer": "ipython3",
   "version": "3.11.11"
  }
 },
 "nbformat": 4,
 "nbformat_minor": 2
}
